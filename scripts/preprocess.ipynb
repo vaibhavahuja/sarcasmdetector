{
 "cells": [
  {
   "cell_type": "code",
   "execution_count": 7,
   "metadata": {},
   "outputs": [
    {
     "data": {
      "text/plain": [
       "'Feel good to born in this shitty world 1'"
      ]
     },
     "execution_count": 7,
     "metadata": {},
     "output_type": "execute_result"
    }
   ],
   "source": [
    "import re\n",
    "\n",
    "hashtag = re.compile(r'#\\w*\\s?')\n",
    "tag = re.compile(r'@\\w*\\s?')  \n",
    "tweet1 =\"Feel good to born in this shitty world #rebirth #sarcasm 1\"\n",
    "tweet1 = re.sub(hashtag,'',tweet1)\n",
    "tweet1 = re.sub(tag,'', tweet1)\n",
    "tweet1\n"
   ]
  },
  {
   "cell_type": "code",
   "execution_count": 9,
   "metadata": {},
   "outputs": [
    {
     "data": {
      "text/plain": [
       "\"I'm so poor to drive this lamborghini \""
      ]
     },
     "execution_count": 9,
     "metadata": {},
     "output_type": "execute_result"
    }
   ],
   "source": [
    "tweet2 = \"I'm so poor to drive this lamborghini #sarcasm @bornpoor\"\n",
    "tweet2 = re.sub(hashtag,'',tweet2)\n",
    "tweet2 = re.sub(tag,'', tweet2)\n",
    "tweet2"
   ]
  },
  {
   "cell_type": "code",
   "execution_count": 11,
   "metadata": {},
   "outputs": [],
   "source": [
    "import io\n",
    "def preprocess(tweet):\n",
    "    hashtags = re.compile(r'#\\w*\\s?')\n",
    "    tags = re.compile(r'@\\w*\\s?') \n",
    "    tweet = re.sub(hashtags,'',tweet)\n",
    "    tweet = re.sub(tags,'', tweet)\n",
    "    print tweet \n",
    "    \n",
    "# for single strings only.    "
   ]
  },
  {
   "cell_type": "code",
   "execution_count": 12,
   "metadata": {},
   "outputs": [
    {
     "name": "stdout",
     "output_type": "stream",
     "text": [
      "Feel good to born in this shitty world 1\n"
     ]
    }
   ],
   "source": [
    "preprocess(\"Feel good to born in this shitty world #rebirth #sarcasm 1\")\n"
   ]
  },
  {
   "cell_type": "code",
   "execution_count": null,
   "metadata": {},
   "outputs": [],
   "source": []
  }
 ],
 "metadata": {
  "kernelspec": {
   "display_name": "Python 2",
   "language": "python",
   "name": "python2"
  },
  "language_info": {
   "codemirror_mode": {
    "name": "ipython",
    "version": 2
   },
   "file_extension": ".py",
   "mimetype": "text/x-python",
   "name": "python",
   "nbconvert_exporter": "python",
   "pygments_lexer": "ipython2",
   "version": "2.7.14"
  }
 },
 "nbformat": 4,
 "nbformat_minor": 2
}
